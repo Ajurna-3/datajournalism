{
 "cells": [
  {
   "cell_type": "markdown",
   "metadata": {},
   "source": [
    "# Data Journalism\n",
    "## Practical Python exercise : Data visualization\n",
    "\n",
    "*Damian Trilling and Penny Sheets*\n",
    "\n",
    "This notebook illustrates what you should consider when making visualizations.\n",
    "\n",
    "While we will use \n",
    "- `matplotlib`\n",
    "- `seaborn`\n",
    "\n",
    "\n",
    "## Interactive data visualization\n",
    "Later in this course (in week 7), we will explicitly talk about how to make interactive graphs. \n",
    "For instance, \n",
    "- `bokeh`\n",
    "- `pygal`\n",
    "\n",
    "are quite useful for that. However, in order to do that, it's good to have a understandig of standard, static plots first (and, of course, they are still very relevant for everything that's printed).\n",
    "\n",
    "\n",
    "## Choosing the right library\n",
    "Some background about our modules of choice:\n",
    "\n",
    "`matplotlib` is the standard work horse. It's neither smart nor beautiful, but the decent option that just does its job. It is what happens under the hood if you use the `.plot()` methods in `pandas`, but you can also just directly feed it some lists and dictionaries as input.\n",
    "\n",
    "\n",
    "`seaborn` offers more beautiful output, has many more options, is smarter and can produce advanced statistical plots. It is also a bit easier to use. Its a bit like `ggplot2` in R.\n",
    "\n",
    "\n",
    "As you will see when browsing examples on https://python-graph-gallery.com/ , both `matplotlib` and `searborn` are very popular, and some of the examples use the one, some the other. While you can do the all the standard stuff (like bar charts) in either of them, we therefore introduce you to both (after all, when googling for help, you are very likely to come accross both libraries).\n",
    "\n",
    "\n"
   ]
  },
  {
   "cell_type": "markdown",
   "metadata": {},
   "source": [
    "## Preparation\n",
    "Import some modules, load some example datasets"
   ]
  },
  {
   "cell_type": "code",
   "execution_count": null,
   "metadata": {},
   "outputs": [],
   "source": [
    "import pandas as pd\n",
    "import numpy as np\n",
    "import seaborn as sns\n",
    "import matplotlib.pyplot as plt\n",
    "%matplotlib inline"
   ]
  },
  {
   "cell_type": "code",
   "execution_count": null,
   "metadata": {},
   "outputs": [],
   "source": [
    "titanic = sns.load_dataset(\"titanic\")\n",
    "titanic.head()"
   ]
  },
  {
   "cell_type": "code",
   "execution_count": null,
   "metadata": {},
   "outputs": [],
   "source": []
  },
  {
   "cell_type": "code",
   "execution_count": null,
   "metadata": {},
   "outputs": [],
   "source": [
    "titanic.describe()"
   ]
  },
  {
   "cell_type": "code",
   "execution_count": null,
   "metadata": {},
   "outputs": [],
   "source": [
    "tips = sns.load_dataset(\"tips\")\n",
    "tips.head()"
   ]
  },
  {
   "cell_type": "code",
   "execution_count": null,
   "metadata": {},
   "outputs": [],
   "source": [
    "tips.describe()"
   ]
  },
  {
   "cell_type": "code",
   "execution_count": null,
   "metadata": {
    "scrolled": true
   },
   "outputs": [],
   "source": [
    "# wijken_long.csv is the dataset from last week!\n",
    "woz = pd.read_csv('wijken_long.csv')\n",
    "woz.head()"
   ]
  },
  {
   "cell_type": "code",
   "execution_count": null,
   "metadata": {},
   "outputs": [],
   "source": [
    "woz.drop('Unnamed: 0', axis=1, inplace=True)"
   ]
  },
  {
   "cell_type": "code",
   "execution_count": null,
   "metadata": {},
   "outputs": [],
   "source": [
    "woz.describe()"
   ]
  },
  {
   "cell_type": "code",
   "execution_count": null,
   "metadata": {},
   "outputs": [],
   "source": [
    "woz_simple = woz.groupby('year').agg(np.mean)\n",
    "woz_simple"
   ]
  },
  {
   "cell_type": "code",
   "execution_count": null,
   "metadata": {},
   "outputs": [],
   "source": []
  },
  {
   "cell_type": "markdown",
   "metadata": {},
   "source": [
    "# 0. A very brief intro to the syntax of matplotlib and seaborn\n",
    "\n",
    "## 0.1 Matplotlib (directly)\n",
    "\n",
    "The general idea is to create an empty figure, and then add elements (plots, labels, titles, ...) to it, and then either save or show the image.\n",
    "\n",
    "*This is especially useful if your data are not in a pandas dataframe, but, for instance, in some lists.* "
   ]
  },
  {
   "cell_type": "code",
   "execution_count": null,
   "metadata": {},
   "outputs": [],
   "source": [
    "# example adapted from https://matplotlib.org/3.1.1/tutorials/introductory/usage.html#sphx-glr-tutorials-introductory-usage-py\n",
    "\n",
    "# let's generate some sample data\n",
    "x = np.linspace(0, 2, 100)\n",
    "\n",
    "# create a figure (a canvas)\n",
    "plt.figure(figsize=(10,7))\n",
    "\n",
    "# plot things on that canvas\n",
    "plt.plot(x, x, label='linear')\n",
    "plt.plot(x, x**2, label='quadratic')\n",
    "plt.plot(x, x**3, label='cubic')\n",
    "\n",
    "# add labels, titles, legends, ...\n",
    "plt.xlabel('x label')\n",
    "plt.ylabel('y label')\n",
    "plt.title(\"Simple Plot\")\n",
    "plt.legend()\n",
    "\n",
    "# Save and/or show the figure. Use ? to get different options for file formats etc\n",
    "plt.savefig('test.png',dpi=300)\n",
    "plt.show()"
   ]
  },
  {
   "cell_type": "markdown",
   "metadata": {},
   "source": [
    "## 0.2 Matplotlib (via pandas)\n",
    "\n",
    "The most useful way for you to interact with matplotlib, however, is via pandas. Pandas dataframes and series have build-in methods that call matplotlib 'under the hood', which makes it very easy for you to use.\n",
    "\n",
    "You essentially just add `.plot()` to a table-like object, and it will produce a plot.\n",
    "\n",
    "The nice thing is that you still can use the native matplotlib functions presented above, for instance `plt.savefig()`."
   ]
  },
  {
   "cell_type": "code",
   "execution_count": null,
   "metadata": {},
   "outputs": [],
   "source": [
    "woz_simple.plot()\n",
    "# plt.savefig('wozplot.png')"
   ]
  },
  {
   "cell_type": "code",
   "execution_count": null,
   "metadata": {},
   "outputs": [],
   "source": [
    "tips['day'].value_counts(sort=False).plot(kind='bar')"
   ]
  },
  {
   "cell_type": "markdown",
   "metadata": {},
   "source": [
    "## 0.3 Seaborn\n",
    "\n",
    "Seaborn is built on matplotlib, but uses a different grammar.\n",
    "You may find it, in fact, more intuitive, as you basically provide each seaborn function with a couple of arguments, namely\n",
    "```\n",
    "data : the name of the dataframe with all your data\n",
    "x    : which column to plot on the x axis\n",
    "y    : which column to plot on the y axis\n",
    "hue  : which column to use to group the data (and represent by different colors)\n",
    "col  : which column to use to group the data into different sub-plots ('columns')\n",
    "style: which column to use to group the data into different styles of the marker\n",
    "size : which column to use to change the size of the marker\n",
    "... \n",
    "```\n",
    "\n",
    "Look at this example:\n",
    "\n"
   ]
  },
  {
   "cell_type": "code",
   "execution_count": null,
   "metadata": {},
   "outputs": [],
   "source": [
    "# example taken fromn https://seaborn.pydata.org/introduction.html#introduction\n",
    "\n",
    "sns.relplot(x=\"total_bill\", y=\"tip\", col=\"time\",\n",
    "            hue=\"smoker\", style=\"smoker\", size=\"size\",\n",
    "            data=tips);"
   ]
  },
  {
   "cell_type": "markdown",
   "metadata": {},
   "source": [
    "In other words, when using seaborn, we do not use the method of a pandas object (as with matplotlib, see above), but call the seaborn function directly and pass on the dataframe with the `data = ...` argument"
   ]
  },
  {
   "cell_type": "markdown",
   "metadata": {},
   "source": [
    "Let's now move through a couple of examples for each chart type that we discussed on Monday."
   ]
  },
  {
   "cell_type": "markdown",
   "metadata": {
    "scrolled": true
   },
   "source": [
    "# 1. Pie charts\n",
    "\n",
    "- proportions\n",
    "- categorical (nominal) data\n",
    "- makes only sense if adds up to 100%\n",
    "\n",
    "\n",
    "Related: donut plots, possibly with subgroups (https://python-graph-gallery.com/163-donut-plot-with-subgroups/)"
   ]
  },
  {
   "cell_type": "code",
   "execution_count": null,
   "metadata": {},
   "outputs": [],
   "source": [
    "tips['smoker'].value_counts().plot(kind='pie', figsize=(5,5))"
   ]
  },
  {
   "cell_type": "code",
   "execution_count": null,
   "metadata": {},
   "outputs": [],
   "source": [
    "tips['smoker'].value_counts().plot(kind='pie', autopct='%1.1f%%', colors=['lightblue','brown'])"
   ]
  },
  {
   "cell_type": "code",
   "execution_count": null,
   "metadata": {},
   "outputs": [],
   "source": [
    "woz['stadsdeel'].value_counts().plot(kind='pie', figsize = (5, 5))"
   ]
  },
  {
   "cell_type": "code",
   "execution_count": null,
   "metadata": {},
   "outputs": [],
   "source": [
    "woz['stadsdeel'].value_counts().plot(kind='pie',explode=[0,0,0,0.2,0,0,0,0], autopct='%1.1f%%')"
   ]
  },
  {
   "cell_type": "markdown",
   "metadata": {},
   "source": [
    "## Discuss\n",
    "\n",
    "- Do you like pie charts? Why (not)?\n",
    "- When are they problematic?\n",
    "- When can they have added value for a narrative?"
   ]
  },
  {
   "cell_type": "markdown",
   "metadata": {},
   "source": [
    ".\n",
    "\n",
    "\n",
    "***Your notes here***\n",
    "\n",
    "\n",
    "."
   ]
  },
  {
   "cell_type": "markdown",
   "metadata": {},
   "source": [
    "# 2. Bar charts\n",
    "\n",
    "- counts per (discrete) category\n",
    "- or: other statistical property (e..g, mean)  per (discrete) category\n",
    "- different variations (e.g., stacked bar charts)\n",
    "\n"
   ]
  },
  {
   "cell_type": "code",
   "execution_count": null,
   "metadata": {},
   "outputs": [],
   "source": [
    "# with matplotlib\n",
    "tips['smoker'].value_counts(sort=False).plot(kind='bar')"
   ]
  },
  {
   "cell_type": "code",
   "execution_count": null,
   "metadata": {},
   "outputs": [],
   "source": [
    "# with seaborn\n",
    "# Look how sns has a function that integrates counting of values and producing the bar chart.\n",
    "sns.countplot(x = 'smoker', data=tips)"
   ]
  },
  {
   "cell_type": "markdown",
   "metadata": {},
   "source": [
    "In the following example, we do not want to calculate counts and then plot them in a bar chart, but rather plot the (implicitly calculated) means:"
   ]
  },
  {
   "cell_type": "code",
   "execution_count": null,
   "metadata": {},
   "outputs": [],
   "source": [
    "sns.barplot(x=\"day\", y=\"total_bill\", data=tips, ci=95)"
   ]
  },
  {
   "cell_type": "markdown",
   "metadata": {},
   "source": [
    "But we could do sth like this 'by hand' in pandas (with matplotlib being called under the hood):\n",
    "\n",
    "**Discuss pros and cons and applications of both approaches!**\n",
    "\n",
    "Try to understand the underlying logic behind them! (and then make a decision on what to use for your own purpuses)"
   ]
  },
  {
   "cell_type": "code",
   "execution_count": null,
   "metadata": {},
   "outputs": [],
   "source": [
    "tips.groupby('day')['total_bill'].agg('mean').plot(kind='bar')"
   ]
  },
  {
   "cell_type": "markdown",
   "metadata": {},
   "source": [
    "As always, use the ? to get more help:"
   ]
  },
  {
   "cell_type": "code",
   "execution_count": null,
   "metadata": {},
   "outputs": [],
   "source": [
    "# sns.barplot?"
   ]
  },
  {
   "cell_type": "markdown",
   "metadata": {},
   "source": [
    "### Grouped barplots"
   ]
  },
  {
   "cell_type": "code",
   "execution_count": null,
   "metadata": {},
   "outputs": [],
   "source": [
    "sns.barplot(x=\"day\", y=\"total_bill\", hue=\"sex\", data=tips, ci=None)"
   ]
  },
  {
   "cell_type": "code",
   "execution_count": null,
   "metadata": {
    "scrolled": false
   },
   "outputs": [],
   "source": [
    "sns.catplot(x=\"day\", y=\"tip\", hue=\"sex\", col = 'time', kind='bar', data=tips)"
   ]
  },
  {
   "cell_type": "code",
   "execution_count": null,
   "metadata": {
    "scrolled": true
   },
   "outputs": [],
   "source": [
    "sns.barplot(x=\"stadsdeel\", y=\"woz-waarde\", hue='year', data=woz)"
   ]
  },
  {
   "cell_type": "code",
   "execution_count": null,
   "metadata": {},
   "outputs": [],
   "source": [
    "sns.set(style=\"whitegrid\")\n",
    "fig, ax = plt.subplots(figsize=(15,5))\n",
    "sns.barplot(ax=ax, x=\"stadsdeel\", y=\"woz-waarde\", hue='year', data=woz, ci = None)"
   ]
  },
  {
   "cell_type": "code",
   "execution_count": null,
   "metadata": {},
   "outputs": [],
   "source": [
    "sns.set(style=\"whitegrid\")\n",
    "fig, ax = plt.subplots(figsize=(5,15))\n",
    "sns.barplot(ax=ax, y=\"stadsdeel\", x=\"woz-waarde\", hue='year', data=woz, ci = None, orient='h')"
   ]
  },
  {
   "cell_type": "code",
   "execution_count": null,
   "metadata": {},
   "outputs": [],
   "source": [
    "# woz[woz['stadsdeel'].map({'Centrum':True, 'Westpoort': True}).fillna(False)]"
   ]
  },
  {
   "cell_type": "markdown",
   "metadata": {},
   "source": [
    "### Discuss\n",
    "\n",
    "- What are the differences between pie charts and bar charts?\n",
    "- How can they support your narrative?\n",
    "- What are their limitations?\n",
    "- For which types of data are they most appropriate?"
   ]
  },
  {
   "cell_type": "markdown",
   "metadata": {},
   "source": [
    ".\n",
    "\n",
    "\n",
    "***Your notes here***\n",
    "\n",
    "\n",
    "."
   ]
  },
  {
   "cell_type": "markdown",
   "metadata": {},
   "source": [
    "# 3. Point charts\n",
    "\n",
    "- similar to bar charts\n",
    "- but: can look 'cleaner'\n",
    "- but: can give a clearer message if the categories can be meaningfully ordered\n",
    "\n",
    "Compare the following two charts that present the same data:\n",
    "\n"
   ]
  },
  {
   "cell_type": "code",
   "execution_count": null,
   "metadata": {
    "scrolled": true
   },
   "outputs": [],
   "source": [
    "sns.catplot(x=\"class\", y=\"survived\", hue=\"sex\",\n",
    "            palette={\"male\": \"g\", \"female\": \"m\"},\n",
    "            kind=\"bar\", data=titanic)"
   ]
  },
  {
   "cell_type": "code",
   "execution_count": null,
   "metadata": {},
   "outputs": [],
   "source": [
    "sns.catplot(x=\"class\", y=\"survived\", hue=\"sex\",\n",
    "            palette={\"male\": \"g\", \"female\": \"m\"},\n",
    "            markers=[\"^\", \"o\"], linestyles=[\"-\", \"--\"],\n",
    "            kind=\"point\", data=titanic)"
   ]
  },
  {
   "cell_type": "markdown",
   "metadata": {},
   "source": [
    "### Discuss\n",
    "\n",
    "- Which chart do you prefer? Why?"
   ]
  },
  {
   "cell_type": "markdown",
   "metadata": {},
   "source": [
    ".\n",
    "\n",
    "\n",
    "***Your notes here***\n",
    "\n",
    "\n",
    "."
   ]
  },
  {
   "cell_type": "markdown",
   "metadata": {},
   "source": [
    "# 3. Line charts\n",
    "\n",
    "- ordered (and typically evenly spaced) values on x-axis\n",
    "- x-axis has many (in theory: contious) measurements\n",
    "- most typical: plot some value(s) over time\n"
   ]
  },
  {
   "cell_type": "code",
   "execution_count": null,
   "metadata": {},
   "outputs": [],
   "source": [
    "sns.lineplot(x='year', y='woz-waarde', data=woz)"
   ]
  },
  {
   "cell_type": "code",
   "execution_count": null,
   "metadata": {},
   "outputs": [],
   "source": [
    "sns.lineplot(x='year', y='woz-waarde', data=woz ,ci=None)"
   ]
  },
  {
   "cell_type": "code",
   "execution_count": null,
   "metadata": {},
   "outputs": [],
   "source": [
    "sns.lineplot(x='year', y='woz-waarde', hue='stadsdeel', data=woz)"
   ]
  },
  {
   "cell_type": "code",
   "execution_count": null,
   "metadata": {},
   "outputs": [],
   "source": [
    "# or using the more complicated pandas/matplotlib syntax\n",
    "woz.groupby(['year','stadsdeel']).agg(sum).unstack().plot()"
   ]
  },
  {
   "cell_type": "markdown",
   "metadata": {},
   "source": [
    "### Discuss\n",
    "\n",
    "- When is a line chart (not) suitable)?\n",
    "- Any additional considerations?"
   ]
  },
  {
   "cell_type": "markdown",
   "metadata": {},
   "source": [
    ".\n",
    "\n",
    "\n",
    "***Your notes here***\n",
    "\n",
    "\n",
    "."
   ]
  },
  {
   "cell_type": "markdown",
   "metadata": {},
   "source": [
    "# 4. Plotting bivariate relationships"
   ]
  },
  {
   "cell_type": "code",
   "execution_count": null,
   "metadata": {},
   "outputs": [],
   "source": [
    "# pandas/matplotlib\n",
    "tips.plot(x='total_bill', y='tip', kind='scatter')"
   ]
  },
  {
   "cell_type": "code",
   "execution_count": null,
   "metadata": {},
   "outputs": [],
   "source": [
    "# the same with seaborn\n",
    "sns.relplot(x='total_bill', y='tip', data=tips)"
   ]
  },
  {
   "cell_type": "code",
   "execution_count": null,
   "metadata": {},
   "outputs": [],
   "source": [
    "# but seaborn can do more, e.g. add a regression line and confidence intervals\n",
    "sns.regplot(x='total_bill', y='tip', data=tips)"
   ]
  },
  {
   "cell_type": "code",
   "execution_count": null,
   "metadata": {},
   "outputs": [],
   "source": [
    "# again, we can aff different facets\n",
    "sns.relplot(x=\"total_bill\", y=\"tip\", col=\"time\",\n",
    "            hue=\"smoker\", style=\"smoker\", size=\"size\",\n",
    "            data=tips);"
   ]
  },
  {
   "cell_type": "markdown",
   "metadata": {},
   "source": [
    "### Discuss\n",
    "\n",
    "- Which data are suitable for such bivariate plots?\n",
    "- Which options do you like best?"
   ]
  },
  {
   "cell_type": "markdown",
   "metadata": {},
   "source": [
    ".\n",
    "\n",
    "\n",
    "***Your notes here***\n",
    "\n",
    "\n",
    "."
   ]
  },
  {
   "cell_type": "markdown",
   "metadata": {},
   "source": [
    "# 5. Additional (statistical) plots\n",
    "\n",
    "Have a look at the seaborn website (http://seaborn.pydata.org/) or at the Python Graph Gallery (https://python-graph-gallery.com/) for more inspiration, including cool stuff like\n",
    "\n",
    "- violin plots\n",
    "- kernel density plots\n",
    "- ...\n",
    "- ...\n",
    "\n",
    "Also, look back at our earlier notebookm 03_analyzing_numbers.ipynb, and the hexplot we present at the end."
   ]
  },
  {
   "cell_type": "code",
   "execution_count": null,
   "metadata": {},
   "outputs": [],
   "source": []
  },
  {
   "cell_type": "code",
   "execution_count": null,
   "metadata": {},
   "outputs": [],
   "source": []
  },
  {
   "cell_type": "markdown",
   "metadata": {},
   "source": [
    "# Now it's your turn!\n",
    "\n",
    "**Exercise**: Take a dataset of you choice (preferably your own data) and try to make multiple visualisations!\n",
    "You can work together with your neighbor if you want to."
   ]
  },
  {
   "cell_type": "code",
   "execution_count": null,
   "metadata": {},
   "outputs": [],
   "source": []
  },
  {
   "cell_type": "code",
   "execution_count": null,
   "metadata": {},
   "outputs": [],
   "source": []
  },
  {
   "cell_type": "code",
   "execution_count": null,
   "metadata": {},
   "outputs": [],
   "source": []
  }
 ],
 "metadata": {
  "kernelspec": {
   "display_name": "Python 3",
   "language": "python",
   "name": "python3"
  },
  "language_info": {
   "codemirror_mode": {
    "name": "ipython",
    "version": 3
   },
   "file_extension": ".py",
   "mimetype": "text/x-python",
   "name": "python",
   "nbconvert_exporter": "python",
   "pygments_lexer": "ipython3",
   "version": "3.6.8"
  }
 },
 "nbformat": 4,
 "nbformat_minor": 1
}
