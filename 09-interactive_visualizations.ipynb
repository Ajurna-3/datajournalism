{
 "cells": [
  {
   "cell_type": "markdown",
   "metadata": {},
   "source": [
    "# Data Journalism\n",
    "## Practical Python exercise : Interactive data visualization\n",
    "\n",
    "*Damian Trilling and Penny Sheets*\n",
    "\n",
    "This notebook gives some examples for how to create interactive visualizations for the web.\n",
    "\n",
    "We will use the following two visualization packages:\n",
    "- `bokeh`\n",
    "- `pygal`\n",
    "\n",
    "\n",
    "`bokeh` allows you to create interactive visualizations in which users can hover over elements, zoom in, etc.\n",
    "`pygal` allows you to create standard charts with hover-effects.\n",
    "\n",
    "\n",
    "## Download the sample data\n",
    "The first time you run this notebook, you will need to download some example data.\n",
    "You only need to do this once, and should \"comment out\" (put hashtags in front of) the following two lines again after running them once."
   ]
  },
  {
   "cell_type": "code",
   "execution_count": null,
   "metadata": {},
   "outputs": [],
   "source": [
    "import bokeh\n",
    "bokeh.sampledata.download()\n"
   ]
  },
  {
   "cell_type": "code",
   "execution_count": null,
   "metadata": {},
   "outputs": [],
   "source": [
    "# You also may need to install cairosvg, a package for creating svg vector graphics, to get all functionalities\n",
    "# pip install cairosvg"
   ]
  },
  {
   "cell_type": "code",
   "execution_count": null,
   "metadata": {},
   "outputs": [],
   "source": []
  },
  {
   "cell_type": "markdown",
   "metadata": {},
   "source": [
    "# Interactivity \n",
    "\n",
    "As discussed in the literature of week 4, interactivity should have a function. For instance, it can be used to reduce information overload while still providing information 'on demand' if users want to dig into it.\n",
    "\n",
    "Consider the example below (under the bokeh section), where the user at a first glance can get an idea of the geographical distribution of unemployment, but if they really want to know more, can even get the exact number for each and every county by hovering over it.\n",
    "\n",
    "More complicated online demos of bokeh apps are available here:\n",
    "\n",
    "- https://demo.bokeh.org/movies\n",
    "- https://demo.bokeh.org/weather\n"
   ]
  },
  {
   "cell_type": "markdown",
   "metadata": {},
   "source": [
    "### But first, we'll start with an example using pygal\n",
    "\n",
    "For more info and examples, see http://www.pygal.org .\n",
    "\n",
    "## damian it might be good here to say why we think pygal is worthwhile/cool."
   ]
  },
  {
   "cell_type": "code",
   "execution_count": null,
   "metadata": {},
   "outputs": [],
   "source": [
    "import pygal\n",
    "import bokeh\n",
    "import pandas as pd\n",
    "%matplotlib inline\n"
   ]
  },
  {
   "cell_type": "code",
   "execution_count": null,
   "metadata": {},
   "outputs": [],
   "source": [
    "# First we create a bar graph object (this is sort of like how we did in Seaborn, creating a blank canvas \n",
    "# before telling it what to put on that canvas.)\n",
    "\n",
    "bar_chart = pygal.Bar()                                            \n",
    "\n",
    "# Next we add some values to it; in this case, we're adding the Fibonacci number sequence, and labeling it accordingly.\n",
    "bar_chart.add('Fibonacci', [0, 1, 1, 2, 3, 5, 8, 13, 21, 34, 55])"
   ]
  },
  {
   "cell_type": "code",
   "execution_count": null,
   "metadata": {},
   "outputs": [],
   "source": [
    "# With pygal, you can render this into an .svg visualization for display in your web browser.\n",
    "\n",
    "bar_chart.render_in_browser()\n",
    "\n",
    "# or you can save to a file for later embedding/placement wherever you want it:\n",
    "# bar_chart.render_to_file('bar_chart.svg') \n",
    "\n",
    "## Damian, if we have time here, would be nice to point to (a) some ways to adjust the features, and (b) a way to \n",
    "#import existing data.  Don't want to make you prep too much on that, though..."
   ]
  },
  {
   "cell_type": "markdown",
   "metadata": {},
   "source": [
    "Let's do this with our own data that we used in an earlier notebook.\n",
    "We first do it the old-fashioned way that we already know, then we use pygal instead."
   ]
  },
  {
   "cell_type": "code",
   "execution_count": null,
   "metadata": {},
   "outputs": [],
   "source": [
    "mediause = pd.read_csv('mediause.csv')\n",
    "mediause"
   ]
  },
  {
   "cell_type": "code",
   "execution_count": null,
   "metadata": {},
   "outputs": [],
   "source": [
    "frequency_of_internet_use = mediause['internet'].value_counts().sort_index()\n",
    "frequency_of_internet_use"
   ]
  },
  {
   "cell_type": "code",
   "execution_count": null,
   "metadata": {},
   "outputs": [],
   "source": [
    "frequency_of_internet_use.plot(kind='bar')"
   ]
  },
  {
   "cell_type": "code",
   "execution_count": null,
   "metadata": {},
   "outputs": [],
   "source": [
    "bar_chart = pygal.Bar()                                            \n",
    "\n",
    "frequency_of_internet_use = mediause['internet'].value_counts().sort_index()\n",
    "frequency_of_tv_use = mediause['tv'].value_counts().sort_index()\n",
    "frequency_of_newspaper_use = mediause['newspaper'].value_counts().sort_index()\n",
    "\n",
    "# Next we add some values to it; in this case, we're adding the Fibonacci number sequence, and labeling it accordingly.\n",
    "bar_chart.add('internet', frequency_of_internet_use)\n",
    "bar_chart.add('tv', frequency_of_tv_use)\n",
    "bar_chart.add('newspaper', frequency_of_newspaper_use)"
   ]
  },
  {
   "cell_type": "code",
   "execution_count": null,
   "metadata": {},
   "outputs": [],
   "source": [
    "bar_chart.render_in_browser()\n"
   ]
  },
  {
   "cell_type": "markdown",
   "metadata": {},
   "source": [
    "### An example with bokeh\n",
    "\n",
    "This one is taken from an existing demo online (right??), to show bokeh's capacities.  But all documentation and further info can be found at the link here, for more info & examples: https://bokeh.org/"
   ]
  },
  {
   "cell_type": "code",
   "execution_count": null,
   "metadata": {},
   "outputs": [],
   "source": [
    "from bokeh.io import show, output_file\n",
    "from bokeh.models import LogColorMapper\n",
    "from bokeh.palettes import Viridis6 as palette\n",
    "from bokeh.plotting import figure\n",
    "\n",
    "from bokeh.sampledata.us_counties import data as counties\n",
    "from bokeh.sampledata.unemployment import data as unemployment\n",
    "\n",
    "palette.reverse()\n",
    "\n",
    "counties = {\n",
    "    code: county for code, county in counties.items() if county[\"state\"] == \"tx\"\n",
    "}\n",
    "\n",
    "county_xs = [county[\"lons\"] for county in counties.values()]\n",
    "county_ys = [county[\"lats\"] for county in counties.values()]\n",
    "\n",
    "county_names = [county['name'] for county in counties.values()]\n",
    "county_rates = [unemployment[county_id] for county_id in counties]\n",
    "color_mapper = LogColorMapper(palette=palette)\n",
    "\n",
    "data=dict(\n",
    "    x=county_xs,\n",
    "    y=county_ys,\n",
    "    name=county_names,\n",
    "    rate=county_rates,\n",
    ")\n",
    "\n",
    "TOOLS = \"pan,wheel_zoom,reset,hover,save\"\n",
    "\n",
    "p = figure(\n",
    "    title=\"Texas Unemployment, 2009\", tools=TOOLS,\n",
    "    x_axis_location=None, y_axis_location=None,\n",
    "    tooltips=[\n",
    "        (\"Name\", \"@name\"), (\"Unemployment rate)\", \"@rate%\"), (\"(Long, Lat)\", \"($x, $y)\")\n",
    "    ])\n",
    "p.grid.grid_line_color = None\n",
    "p.hover.point_policy = \"follow_mouse\"\n",
    "\n",
    "p.patches('x', 'y', source=data,\n",
    "          fill_color={'field': 'rate', 'transform': color_mapper},\n",
    "          fill_alpha=0.7, line_color=\"white\", line_width=0.5)\n",
    "\n",
    "\n",
    "\n",
    "# save to file\n",
    "output_file('bokeh-example.html')\n",
    "\n",
    "# and/or show in browser\n",
    "show(p)"
   ]
  },
  {
   "cell_type": "code",
   "execution_count": null,
   "metadata": {},
   "outputs": [],
   "source": []
  },
  {
   "cell_type": "code",
   "execution_count": null,
   "metadata": {},
   "outputs": [],
   "source": []
  },
  {
   "cell_type": "code",
   "execution_count": null,
   "metadata": {},
   "outputs": [],
   "source": []
  },
  {
   "cell_type": "markdown",
   "metadata": {},
   "source": [
    "# Publishing interactivity\n",
    "\n",
    "Publishing and distributing your STATIC visualizations is straightforward (see week 4 of this course). You can simply save them in any format you like (e.g., `.png` (better than `.jpg` for text and sharp lines), or as a vector graphic (e.g., `.svg`) that allows loss-free scaling.\n",
    "For example, we could use `plt.save_fig()` for that purpose.\n",
    "\n",
    "This file, then, can be freely used in any online or offline publication.\n",
    "\n",
    "But how can we do this online? It's one thing to make a nice interactive visualization in your browser\n",
    "## damian this sentence seems incomplete.\n",
    "\n",
    "\n",
    "## SVG graphics\n",
    "\n",
    "\n",
    "One approach are SVG graphics. That's the route we took in the pygal example above. As you see, you can just open the file in any browser, and the interactive elements (hovering over the bars with your mouse shows the values) work.\n",
    "\n",
    "However, there is one problem with this approach: First, the possibilities types of interactivity possible are a bit limited. Second, and more importantly: SVG graphics are sometimes seen as a security risk (because one could construct a malicious svg file that executes unwanted code); and therefore, many platforms restrict their use (for instance, Wordpress - although you can (partly) circumvent this, for instance by installing a svg plugin).\n",
    "\n",
    "If you build your own website from scratch, that's less of a problem, of course.\n",
    "\n",
    "\n",
    "## JavaScript (client-side)\n",
    "\n",
    "The bokeh example above takes a different approach: It generates an HTML file and java script code that then is used to render the interactive graphic in the users' browser. That means that if we distribute the HTML file (and, for instance, upload it to our own website; I did it [here](http://www.damiantrilling.net/downloads/test.html)), anyone can use it in their browser.\n",
    "\n",
    "It requires a bit more fiddling, though, to display such a thing inline (for instance, like embedding a picture within a wordpress blog). With a bit of HTML knowledge, though, you can get there.\n",
    "## damian, it would be cool to point them to a help site for this if you know one\n",
    "\n",
    "\n",
    "## Server-side approaches\n",
    "\n",
    "Both approaches outlined above are *self-contained*: They include all data, all calculations are already made, etc. Especially if you have very large data, or when you want to actually run some python code based on the user input, you will need to run your own (bokeh-) server. That's a cool thing to do (and a nice project to pursue, if you want to experiment a bit), but out of scope for this class."
   ]
  },
  {
   "cell_type": "markdown",
   "metadata": {},
   "source": [
    "# Exercise\n",
    "\n",
    "The example below is from the official bokeh tutorial (https://mybinder.org/v2/gh/bokeh/bokeh-notebooks/master?filepath=tutorial%2F00%20-%20Introduction%20and%20Setup.ipynb ). It plots a complex chart with intearctive hover.\n",
    "\n",
    "**Try to understand the code (in broad lines) and modify it to explore what happens. Construct a different visualization, or use other (own?) data.**"
   ]
  },
  {
   "cell_type": "code",
   "execution_count": null,
   "metadata": {},
   "outputs": [],
   "source": [
    "# import modules and prepare example dataset\n",
    "\n",
    "from bokeh.models import ColumnDataSource, HoverTool\n",
    "from bokeh.plotting import figure\n",
    "from bokeh.sampledata.autompg import autompg_clean as df\n",
    "from bokeh.transform import factor_cmap\n",
    "\n",
    "df.cyl = df.cyl.astype(str)\n",
    "df.yr = df.yr.astype(str)"
   ]
  },
  {
   "cell_type": "code",
   "execution_count": null,
   "metadata": {
    "scrolled": false
   },
   "outputs": [],
   "source": [
    "df"
   ]
  },
  {
   "cell_type": "code",
   "execution_count": null,
   "metadata": {},
   "outputs": [],
   "source": [
    "group = df.groupby(by=['cyl', 'mfr'])\n",
    "source = ColumnDataSource(group)\n",
    "\n",
    "p = figure(plot_width=800, plot_height=300, title=\"Mean MPG by # Cylinders and Manufacturer\",\n",
    "           x_range=group, toolbar_location=None, tools=\"\")\n",
    "\n",
    "p.xgrid.grid_line_color = None\n",
    "p.xaxis.axis_label = \"Manufacturer grouped by # Cylinders\"\n",
    "p.xaxis.major_label_orientation = 1.2\n",
    "\n",
    "index_cmap = factor_cmap('cyl_mfr', palette=['#2b83ba', '#abdda4', '#ffffbf', '#fdae61', '#d7191c'], \n",
    "                         factors=sorted(df.cyl.unique()), end=1)\n",
    "\n",
    "p.vbar(x='cyl_mfr', top='mpg_mean', width=1, source=source,\n",
    "       line_color=\"white\", fill_color=index_cmap, \n",
    "       hover_line_color=\"darkgrey\", hover_fill_color=index_cmap)\n",
    "\n",
    "p.add_tools(HoverTool(tooltips=[(\"MPG\", \"@mpg_mean\"), (\"Cyl, Mfr\", \"@cyl_mfr\")]))\n",
    "\n",
    "show(p)"
   ]
  },
  {
   "cell_type": "markdown",
   "metadata": {},
   "source": [
    "To give you a little help, I made one with our mediause dataset:"
   ]
  },
  {
   "cell_type": "code",
   "execution_count": null,
   "metadata": {},
   "outputs": [],
   "source": [
    "group = mediause.groupby('education')\n",
    "source = ColumnDataSource(group)\n",
    "\n",
    "p = figure()\n",
    "p.vbar(x='education', top='internet_mean', width=1, source=source,\n",
    "       line_color=\"white\")\n",
    "\n",
    "p.add_tools(HoverTool(tooltips=[(\"internet use\", \"@internet_mean\"), (\"education\", \"@education\")]))\n",
    "\n",
    "show(p)"
   ]
  },
  {
   "cell_type": "code",
   "execution_count": null,
   "metadata": {},
   "outputs": [],
   "source": []
  },
  {
   "cell_type": "code",
   "execution_count": null,
   "metadata": {},
   "outputs": [],
   "source": [
    "mediause_nice = mediause.copy()\n",
    "mediause_nice['education'].replace({1: 'basis', 2:'vmbo', 3: 'vmbo-t', 4: 'mbo', 5: 'hbo', 6:'wo-bachelor',\n",
    "                               7:'wo-master'}, inplace=True)\n",
    "\n",
    "\n",
    "group = mediause_nice.groupby('education')\n",
    "source = ColumnDataSource(group)\n",
    "\n",
    "p = figure(x_range=group)\n",
    "p.vbar(x='education', top='internet_mean', width=1, source=source,\n",
    "       line_color=\"white\")\n",
    "\n",
    "p.add_tools(HoverTool(tooltips=[(\"internet use\", \"@internet_mean\"), (\"education\", \"@education\")]))\n",
    "\n",
    "show(p)"
   ]
  },
  {
   "cell_type": "code",
   "execution_count": null,
   "metadata": {},
   "outputs": [],
   "source": [
    "group.describe()"
   ]
  }
 ],
 "metadata": {
  "kernelspec": {
   "display_name": "Python 3",
   "language": "python",
   "name": "python3"
  },
  "language_info": {
   "codemirror_mode": {
    "name": "ipython",
    "version": 3
   },
   "file_extension": ".py",
   "mimetype": "text/x-python",
   "name": "python",
   "nbconvert_exporter": "python",
   "pygments_lexer": "ipython3",
   "version": "3.6.8"
  }
 },
 "nbformat": 4,
 "nbformat_minor": 2
}
